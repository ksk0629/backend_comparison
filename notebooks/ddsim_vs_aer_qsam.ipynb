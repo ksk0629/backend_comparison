{
 "cells": [
  {
   "cell_type": "markdown",
   "id": "be3e67fb-bca7-4479-8f71-ba94b5174c97",
   "metadata": {},
   "source": [
    "# DDSIM vs Qiskit Aer"
   ]
  },
  {
   "cell_type": "code",
   "execution_count": 1,
   "id": "1b919709-9ebc-4a3c-8b2d-de4e7c3ccb8f",
   "metadata": {},
   "outputs": [],
   "source": [
    "import time\n",
    "import random\n",
    "\n",
    "import matplotlib.pyplot as plt\n",
    "from mqt import ddsim\n",
    "import numpy as np\n",
    "import qiskit\n",
    "import qiskit_aer"
   ]
  },
  {
   "cell_type": "markdown",
   "id": "fa562732-ef91-473f-bdcb-5b74b76eb945",
   "metadata": {},
   "source": [
    "## One case"
   ]
  },
  {
   "cell_type": "markdown",
   "id": "0ce9ab4e-c437-45f2-bc9b-296bed56febb",
   "metadata": {},
   "source": [
    "### Create the target circuits"
   ]
  },
  {
   "cell_type": "code",
   "execution_count": 2,
   "id": "63bb96a1-2dc5-4127-9edc-ba1660fbc72e",
   "metadata": {},
   "outputs": [
    {
     "name": "stdout",
     "output_type": "stream",
     "text": [
      "a + b = 7 + 5 = 12\n"
     ]
    }
   ],
   "source": [
    "num_state_qubits = 14\n",
    "circuit = qiskit.circuit.library.DraperQFTAdder(num_state_qubits)\n",
    "\n",
    "# ==========\n",
    "a = 7\n",
    "b = 5\n",
    "# ==========\n",
    "a_bin = bin(a)[2:]\n",
    "b_bin = bin(b)[2:]\n",
    "out_bin = bin(a + b)[2:]\n",
    "print(f\"a + b = {a} + {b} = {int(out_bin, 2)}\")\n",
    "\n",
    "for index, letter in enumerate(a_bin[::-1]):\n",
    "    if letter == \"1\":\n",
    "        circuit.compose(qiskit.circuit.library.XGate(), [index], front=True, inplace=True)\n",
    "for index, letter in enumerate(b_bin[::-1], num_state_qubits):\n",
    "    if letter == \"1\":\n",
    "        circuit.compose(qiskit.circuit.library.XGate(), [index], front=True, inplace=True)\n",
    "\n",
    "# circuit.draw()"
   ]
  },
  {
   "cell_type": "markdown",
   "id": "ba348fe1-f197-4c88-90b5-3579052ebf15",
   "metadata": {},
   "source": [
    "### Define utils"
   ]
  },
  {
   "cell_type": "code",
   "execution_count": 3,
   "id": "817437fb-3f28-44c9-affd-bf95334471a9",
   "metadata": {},
   "outputs": [],
   "source": [
    "SEED = 901"
   ]
  },
  {
   "cell_type": "code",
   "execution_count": 4,
   "id": "8f83e2cd-ad7c-48e0-bcd2-975b33ff0152",
   "metadata": {},
   "outputs": [],
   "source": [
    "def convert_counts(original_counts):\n",
    "    return {int(value, 16): original_counts[value] for value in original_counts}"
   ]
  },
  {
   "cell_type": "code",
   "execution_count": 5,
   "id": "08655a2e-9de9-427a-bb85-0fd447480b24",
   "metadata": {},
   "outputs": [],
   "source": [
    "def get_transpiled(backend):\n",
    "    pass_manager = qiskit.transpiler.generate_preset_pass_manager(\n",
    "        optimization_level=3,\n",
    "        backend=backend,\n",
    "        seed_transpiler=SEED,\n",
    "    )\n",
    "\n",
    "    trainspiled_circuit = pass_manager.run(circuit)  # Use the circuit defined above\n",
    "\n",
    "    trainspiled_circuit.add_register(qiskit.ClassicalRegister(circuit.num_qubits - circuit.num_state_qubits))\n",
    "    trainspiled_circuit.measure(trainspiled_circuit.qregs[-1], trainspiled_circuit.cregs[0])\n",
    "    \n",
    "    return trainspiled_circuit"
   ]
  },
  {
   "cell_type": "code",
   "execution_count": 6,
   "id": "904cc84d-2b02-4a57-8d71-a452566e3e7c",
   "metadata": {},
   "outputs": [],
   "source": [
    "def run(backend):\n",
    "    assert SEED == backend.options.seed_simulator\n",
    "    transpiled_circuit = get_transpiled(backend)\n",
    "    \n",
    "    job = backend.run(transpiled_circuit, shots=8192)\n",
    "\n",
    "    return job"
   ]
  },
  {
   "cell_type": "markdown",
   "id": "a34f4c8f-5c52-416a-8ddd-f6c3142f6836",
   "metadata": {},
   "source": [
    "### Check the backends"
   ]
  },
  {
   "cell_type": "code",
   "execution_count": 7,
   "id": "ada25da4-9c24-479c-a655-f61f16f2c434",
   "metadata": {},
   "outputs": [
    {
     "data": {
      "text/plain": [
       "[<mqt.ddsim.qasmsimulator.QasmSimulatorBackend at 0x10e25fe00>,\n",
       " <mqt.ddsim.statevectorsimulator.StatevectorSimulatorBackend at 0x10e62c050>,\n",
       " <mqt.ddsim.hybridqasmsimulator.HybridQasmSimulatorBackend at 0x10e62c1a0>,\n",
       " <mqt.ddsim.hybridstatevectorsimulator.HybridStatevectorSimulatorBackend at 0x10e62c2f0>,\n",
       " <mqt.ddsim.pathqasmsimulator.PathQasmSimulatorBackend at 0x10e62c440>,\n",
       " <mqt.ddsim.pathstatevectorsimulator.PathStatevectorSimulatorBackend at 0x10e62c590>,\n",
       " <mqt.ddsim.unitarysimulator.UnitarySimulatorBackend at 0x10e62c6e0>,\n",
       " <mqt.ddsim.stochasticnoisesimulator.StochasticNoiseSimulatorBackend at 0x10e62c830>,\n",
       " <mqt.ddsim.deterministicnoisesimulator.DeterministicNoiseSimulatorBackend at 0x10e62c980>]"
      ]
     },
     "execution_count": 7,
     "metadata": {},
     "output_type": "execute_result"
    }
   ],
   "source": [
    "ddsim.DDSIMProvider().backends()"
   ]
  },
  {
   "cell_type": "code",
   "execution_count": 8,
   "id": "6bb8d5c7-2c77-4c36-94b9-cb70d91d6c79",
   "metadata": {},
   "outputs": [
    {
     "data": {
      "text/plain": [
       "[AerSimulator('aer_simulator'),\n",
       " AerSimulator('aer_simulator_statevector'),\n",
       " AerSimulator('aer_simulator_density_matrix'),\n",
       " AerSimulator('aer_simulator_stabilizer'),\n",
       " AerSimulator('aer_simulator_matrix_product_state'),\n",
       " AerSimulator('aer_simulator_extended_stabilizer'),\n",
       " AerSimulator('aer_simulator_unitary'),\n",
       " AerSimulator('aer_simulator_superop'),\n",
       " QasmSimulator('qasm_simulator'),\n",
       " StatevectorSimulator('statevector_simulator'),\n",
       " UnitarySimulator('unitary_simulator')]"
      ]
     },
     "execution_count": 8,
     "metadata": {},
     "output_type": "execute_result"
    }
   ],
   "source": [
    "qiskit_aer.AerProvider().backends()"
   ]
  },
  {
   "cell_type": "markdown",
   "id": "884cbbaa-f800-49e9-8d7d-b7fc09630a2f",
   "metadata": {},
   "source": [
    "### QASM"
   ]
  },
  {
   "cell_type": "markdown",
   "id": "e49987c5-46a3-439d-8824-e0e9026c3e6e",
   "metadata": {},
   "source": [
    "#### AerSimulator"
   ]
  },
  {
   "cell_type": "code",
   "execution_count": 9,
   "id": "72db8123-2c4c-4302-81aa-a44d2bc7a75f",
   "metadata": {},
   "outputs": [
    {
     "name": "stderr",
     "output_type": "stream",
     "text": [
      "Simulation failed and returned the following error message:\n",
      "ERROR:  [Experiment 0] Insufficient memory to run circuit DraperQFTAdder using the statevector simulator. Required memory: 32768M, max memory: 16384M\n",
      "Simulation failed and returned the following error message:\n",
      "ERROR:  [Experiment 0] Insufficient memory to run circuit DraperQFTAdder using the statevector simulator. Required memory: 32768M, max memory: 16384M\n",
      "Simulation failed and returned the following error message:\n",
      "ERROR:  [Experiment 0] Insufficient memory to run circuit DraperQFTAdder using the statevector simulator. Required memory: 32768M, max memory: 16384M\n"
     ]
    }
   ],
   "source": [
    "aer_qasm = qiskit_aer.AerSimulator(seed_simulator=SEED)\n",
    "aer_qasm_job = run(aer_qasm)"
   ]
  },
  {
   "cell_type": "code",
   "execution_count": 10,
   "id": "01a0c879-d2ef-4a2b-a619-d74d53661a11",
   "metadata": {},
   "outputs": [
    {
     "name": "stdout",
     "output_type": "stream",
     "text": [
      "JobStatus.DONE\n",
      "{12: 8192}\n"
     ]
    },
    {
     "data": {
      "text/plain": [
       "80.982655708"
      ]
     },
     "execution_count": 10,
     "metadata": {},
     "output_type": "execute_result"
    }
   ],
   "source": [
    "print(aer_qasm_job.status())\n",
    "print(convert_counts(aer_qasm_job.result().results[0].data.counts))\n",
    "aer_qasm_job.result().results[0].metadata[\"time_taken\"]"
   ]
  },
  {
   "cell_type": "markdown",
   "id": "f4ea0b1d-66a1-476a-ade3-819d491b9bbe",
   "metadata": {},
   "source": [
    "#### Among DDSIM"
   ]
  },
  {
   "cell_type": "markdown",
   "id": "35ae4dae-a1b3-40a4-be30-7d4d7f74e55d",
   "metadata": {},
   "source": [
    "##### `QasmSimulatorBackend`"
   ]
  },
  {
   "cell_type": "code",
   "execution_count": 11,
   "id": "523e1ee0-047f-42b2-a353-87dd49c31386",
   "metadata": {},
   "outputs": [],
   "source": [
    "ddsim_qasm = ddsim.qasmsimulator.QasmSimulatorBackend()\n",
    "ddsim_qasm.options.update_options(seed_simulator=SEED)\n",
    "\n",
    "ddsim_qasm_job = run(ddsim_qasm)"
   ]
  },
  {
   "cell_type": "code",
   "execution_count": 12,
   "id": "98c63e29-327d-47f5-b953-a5f3b9c6c16e",
   "metadata": {},
   "outputs": [
    {
     "name": "stdout",
     "output_type": "stream",
     "text": [
      "JobStatus.DONE\n",
      "{12: 8192}\n"
     ]
    },
    {
     "data": {
      "text/plain": [
       "0.015814781188964844"
      ]
     },
     "execution_count": 12,
     "metadata": {},
     "output_type": "execute_result"
    }
   ],
   "source": [
    "print(ddsim_qasm_job.status())\n",
    "print(convert_counts(ddsim_qasm_job.result().results[0].data.counts))\n",
    "ddsim_qasm_job.result().results[0].data.time_taken"
   ]
  },
  {
   "cell_type": "markdown",
   "id": "97aa5e5b-99a4-4fdb-81b9-bb734330e248",
   "metadata": {},
   "source": [
    "##### `HybridQasmSimulatorBackend`\n",
    "`MemoryError: std::bad_alloc` arises."
   ]
  },
  {
   "cell_type": "code",
   "execution_count": 13,
   "id": "3e34a16f-bb3a-44ba-ba51-dc37e307fd9a",
   "metadata": {},
   "outputs": [],
   "source": [
    "# ddsim_hybrid_qasm = ddsim.hybridqasmsimulator.HybridQasmSimulatorBackend()\n",
    "# ddsim_hybrid_qasm.options.update_options(seed_simulator=SEED)\n",
    "# 1\n",
    "# ddsim_hybrid_qasm_job = run(ddsim_hybrid_qasm)"
   ]
  },
  {
   "cell_type": "code",
   "execution_count": 14,
   "id": "1d453ca2-5212-4f60-bc56-ae3f2780be7b",
   "metadata": {
    "scrolled": true
   },
   "outputs": [],
   "source": [
    "# print(convert_counts(ddsim_hybrid_qasm_job.result().results[0].data.counts))\n",
    "# ddsim_qasm_job.result().results[0].data.time_taken"
   ]
  },
  {
   "cell_type": "markdown",
   "id": "1ac378d9-d6f0-4522-a53e-f3e7a2b495e0",
   "metadata": {},
   "source": [
    "##### `PathQasmSimulatorBackend`\n",
    "`MemoryError: std::bad_alloc` arises."
   ]
  },
  {
   "cell_type": "code",
   "execution_count": 15,
   "id": "9b9d318e-87e9-4d4d-9836-3d226016aab8",
   "metadata": {},
   "outputs": [],
   "source": [
    "# ddsim_path_qasm = ddsim.pathqasmsimulator.PathQasmSimulatorBackend()\n",
    "# ddsim_path_qasm.options.update_options(seed_simulator=SEED)\n",
    "\n",
    "# ddsim_path_qasm_job = run(ddsim_hybrid_qasm)"
   ]
  },
  {
   "cell_type": "code",
   "execution_count": 16,
   "id": "a6841ff9-db2d-4118-aae7-ff1dfbdce495",
   "metadata": {},
   "outputs": [],
   "source": [
    "# print(convert_counts(ddsim_path_qasm_job.result().results[0].data.counts))\n",
    "# ddsim_path_qasm_job.result().results[0].data.time_taken"
   ]
  },
  {
   "cell_type": "markdown",
   "id": "0a68dbc3-24da-48de-926a-b27947f78bf3",
   "metadata": {},
   "source": [
    "## Comprehensive Analysis"
   ]
  },
  {
   "cell_type": "markdown",
   "id": "4027392f-97a7-4561-babe-9b19ea2b99ee",
   "metadata": {},
   "source": [
    "### Increase in the number of qubtis"
   ]
  },
  {
   "cell_type": "code",
   "execution_count": 17,
   "id": "40530fe0-7f14-48a2-a3af-dec33b096286",
   "metadata": {},
   "outputs": [],
   "source": [
    "def get_circuit(num_state_qubits, a, b):\n",
    "    circuit = qiskit.circuit.library.DraperQFTAdder(num_state_qubits, kind='half')\n",
    "\n",
    "    a_bin = bin(a)[2:]\n",
    "    b_bin = bin(b)[2:]\n",
    "    out_bin = bin(a + b)[2:]\n",
    "    # print(f\"a + b = {a} + {b} = {int(out_bin, 2)}\")\n",
    "    \n",
    "    for index, letter in enumerate(a_bin[::-1]):\n",
    "        if letter == \"1\":\n",
    "            circuit.compose(qiskit.circuit.library.XGate(), [index], front=True, inplace=True)\n",
    "    for index, letter in enumerate(b_bin[::-1], num_state_qubits):\n",
    "        if letter == \"1\":\n",
    "            circuit.compose(qiskit.circuit.library.XGate(), [index], front=True, inplace=True)\n",
    "\n",
    "    return circuit"
   ]
  },
  {
   "cell_type": "code",
   "execution_count": 18,
   "id": "acc1ff28-48ae-4764-bd9c-cd59c5b9c383",
   "metadata": {},
   "outputs": [],
   "source": [
    "SEED = 901\n",
    "SHOTS = 8192\n",
    "\n",
    "def convert_counts(original_counts):\n",
    "    return {int(value, 16): original_counts[value] for value in original_counts}"
   ]
  },
  {
   "cell_type": "code",
   "execution_count": 19,
   "id": "197671f6-2477-4a44-ad4b-b22ff8835c27",
   "metadata": {},
   "outputs": [],
   "source": [
    "aer_qasm = qiskit_aer.AerSimulator(seed_simulator=SEED)\n",
    "\n",
    "ddsim_qasm = ddsim.qasmsimulator.QasmSimulatorBackend()\n",
    "ddsim_qasm.options.update_options(seed_simulator=SEED)"
   ]
  },
  {
   "cell_type": "code",
   "execution_count": 20,
   "id": "11056e9a-1e60-435d-8776-c7689300e710",
   "metadata": {},
   "outputs": [
    {
     "name": "stdout",
     "output_type": "stream",
     "text": [
      "CPU times: user 1h 13min 28s, sys: 11min 8s, total: 1h 24min 37s\n",
      "Wall time: 17min 16s\n"
     ]
    }
   ],
   "source": [
    "%%time\n",
    "random.seed(SEED)\n",
    "\n",
    "max_num_state_qubits = 15\n",
    "num_trials = 3\n",
    "\n",
    "aer_jobs = dict()\n",
    "ddsim_jobs = dict()\n",
    "for num_state_qubits in range(1, max_num_state_qubits+1):\n",
    "    for _ in range(num_trials):\n",
    "        max_number = (2 ** num_state_qubits) - 1\n",
    "        a = random.randint(0, max_number)\n",
    "        b = random.randint(0, max_number)\n",
    "        \n",
    "        # Get the target circuit.\n",
    "        circuit = get_circuit(num_state_qubits, a, b)\n",
    "        \n",
    "        # Make the key for the dicts.\n",
    "        result = a + b\n",
    "        key = (circuit.num_qubits, num_trials, a, b, result)\n",
    "    \n",
    "        # Transpile the circuit for Aer.\n",
    "        pass_manager = qiskit.transpiler.generate_preset_pass_manager(\n",
    "            optimization_level=3,\n",
    "            backend=aer_qasm,\n",
    "            seed_transpiler=SEED,\n",
    "        )\n",
    "        trainspiled_circuit_for_aer = pass_manager.run(circuit)\n",
    "        trainspiled_circuit_for_aer.add_register(\n",
    "            qiskit.ClassicalRegister(circuit.num_qubits - circuit.num_state_qubits)\n",
    "        )\n",
    "        for c_index in range(trainspiled_circuit_for_aer.num_qubits - num_state_qubits):\n",
    "            q_index = c_index + num_state_qubits\n",
    "            trainspiled_circuit_for_aer.measure(q_index, c_index)\n",
    "        # Run the circuit with Aer.\n",
    "        job = aer_qasm.run(trainspiled_circuit_for_aer, shots=SHOTS)\n",
    "        \n",
    "        aer_jobs[key] = job\n",
    "    \n",
    "        # Transpile the circuit for DDSIM.\n",
    "        pass_manager = qiskit.transpiler.generate_preset_pass_manager(\n",
    "            optimization_level=3,\n",
    "            backend=ddsim_qasm,\n",
    "            seed_transpiler=SEED,\n",
    "        )\n",
    "        trainspiled_circuit_for_ddsim = pass_manager.run(circuit)\n",
    "        trainspiled_circuit_for_ddsim.add_register(\n",
    "            qiskit.ClassicalRegister(circuit.num_qubits - circuit.num_state_qubits)\n",
    "        )\n",
    "        for c_index in range(trainspiled_circuit_for_aer.num_qubits - num_state_qubits):\n",
    "            q_index = c_index + num_state_qubits\n",
    "            trainspiled_circuit_for_ddsim.measure(q_index, c_index)\n",
    "        # Run the circuit with DDSIM.\n",
    "        job = ddsim_qasm.run(trainspiled_circuit_for_ddsim, shots=SHOTS)\n",
    "        ddsim_jobs[key] = job"
   ]
  },
  {
   "cell_type": "code",
   "execution_count": 21,
   "id": "7a20b87d-e345-4782-996b-b19e34d12872",
   "metadata": {},
   "outputs": [],
   "source": [
    "# Define functions to organise data.\n",
    "def get_success_possibility(job, true_key_digit, shots=SHOTS):\n",
    "    counts_digit = convert_counts(job.result().results[0].data.counts)\n",
    "    return counts_digit[true_key_digit] / shots\n",
    "\n",
    "def get_time_taken_from_aer(job):\n",
    "    return job.result().results[0].metadata[\"time_taken\"]\n",
    "\n",
    "def get_time_taken_from_ddsim(job):\n",
    "    return job.result().results[0].data.time_taken"
   ]
  },
  {
   "cell_type": "code",
   "execution_count": 22,
   "id": "2e0b080c-dfe7-420c-b41a-e065dc225727",
   "metadata": {},
   "outputs": [
    {
     "name": "stderr",
     "output_type": "stream",
     "text": [
      "/Users/ksk/.pyenv/versions/3.13.2/envs/backend_comparison/lib/python3.13/site-packages/numpy/_core/fromnumeric.py:3860: RuntimeWarning: Mean of empty slice.\n",
      "  return _methods._mean(a, axis=axis, dtype=dtype,\n",
      "/Users/ksk/.pyenv/versions/3.13.2/envs/backend_comparison/lib/python3.13/site-packages/numpy/_core/_methods.py:145: RuntimeWarning: invalid value encountered in scalar divide\n",
      "  ret = ret.dtype.type(ret / rcount)\n"
     ]
    },
    {
     "data": {
      "text/plain": [
       "[(3, 1.0, 0.0048243545),\n",
       " (5, 1.0, 0.006026458),\n",
       " (7, 1.0, 0.006935041666666667),\n",
       " (9, 1.0, 0.017609791333333333),\n",
       " (11, 1.0, 0.021586694333333333),\n",
       " (13, 1.0, 0.025509930333333333),\n",
       " (15, 1.0, 0.017842486333333334),\n",
       " (17, 1.0, 0.028705833666666666),\n",
       " (19, 1.0, 0.10466601399999999),\n",
       " (21, 1.0, 0.4955295),\n",
       " (23, 1.0, 2.2340308613333333),\n",
       " (25, 1.0, 9.841457389),\n",
       " (27, 1.0, 41.442386750333334),\n",
       " (29, 1.0, 287.76303001366665),\n",
       " (31, nan, nan)]"
      ]
     },
     "execution_count": 22,
     "metadata": {},
     "output_type": "execute_result"
    }
   ],
   "source": [
    "# Organise the data for Aer.\n",
    "aer_results = dict()\n",
    "for key, aer_job in aer_jobs.items():\n",
    "    num_qubits = key[0]\n",
    "    if num_qubits not in aer_results:\n",
    "        aer_results[num_qubits] = {\"success_possibilities\": [], \"time_taken\": []}\n",
    "\n",
    "    if not aer_job.result().results[0].success:\n",
    "        continue\n",
    "    true_key_digit = key[-1]\n",
    "    aer_results[num_qubits][\"success_possibilities\"].append(get_success_possibility(aer_job, true_key_digit))\n",
    "    aer_results[num_qubits][\"time_taken\"].append(get_time_taken_from_aer(aer_job))\n",
    "\n",
    "aer_result = [\n",
    "    (num_qubits,\n",
    "     float(np.mean(aer_results[num_qubits][\"success_possibilities\"])),\n",
    "     float(np.mean(aer_results[num_qubits][\"time_taken\"])),\n",
    "    )\n",
    "    for num_qubits in aer_results.keys()\n",
    "]\n",
    "aer_result"
   ]
  },
  {
   "cell_type": "code",
   "execution_count": 23,
   "id": "969f6088-844b-41aa-a4f0-31c483e290f4",
   "metadata": {},
   "outputs": [
    {
     "data": {
      "text/plain": [
       "[(3, 1.0, 0.005348563194274902),\n",
       " (5, 1.0, 0.004994988441467285),\n",
       " (7, 1.0, 0.006453116734822591),\n",
       " (9, 1.0, 0.010559002558390299),\n",
       " (11, 1.0, 0.010590076446533203),\n",
       " (13, 1.0, 0.01467744509379069),\n",
       " (15, 1.0, 0.015854358673095703),\n",
       " (17, 1.0, 0.014838377634684244),\n",
       " (19, 1.0, 0.017535686492919922),\n",
       " (21, 1.0, 0.020144144694010418),\n",
       " (23, 1.0, 0.024961551030476887),\n",
       " (25, 1.0, 0.026864051818847656),\n",
       " (27, 1.0, 0.022557973861694336),\n",
       " (29, 1.0, 0.0401456356048584),\n",
       " (31, 1.0, 0.027736425399780273)]"
      ]
     },
     "execution_count": 23,
     "metadata": {},
     "output_type": "execute_result"
    }
   ],
   "source": [
    "# Organise the data for DDSIM.\n",
    "ddsim_results = dict()\n",
    "for key, ddsim_job in ddsim_jobs.items():\n",
    "    num_qubits = key[0]\n",
    "    if num_qubits not in ddsim_results:\n",
    "        ddsim_results[num_qubits] = {\"success_possibilities\": [], \"time_taken\": []}\n",
    "\n",
    "    if not ddsim_job.result().results[0].success:\n",
    "        continue\n",
    "    \n",
    "    true_key_digit = key[-1]\n",
    "    ddsim_results[num_qubits][\"success_possibilities\"].append(get_success_possibility(ddsim_job, true_key_digit))\n",
    "    ddsim_results[num_qubits][\"time_taken\"].append(get_time_taken_from_ddsim(ddsim_job))\n",
    "\n",
    "ddsim_result = [\n",
    "    (num_qubits,\n",
    "     float(np.mean(ddsim_results[num_qubits][\"success_possibilities\"])),\n",
    "     float(np.mean(ddsim_results[num_qubits][\"time_taken\"])),\n",
    "    )\n",
    "    for num_qubits in ddsim_results.keys()\n",
    "]\n",
    "ddsim_result"
   ]
  },
  {
   "cell_type": "code",
   "execution_count": 24,
   "id": "1b7301b7-483e-41c2-9776-87cf9c2d05b0",
   "metadata": {},
   "outputs": [
    {
     "data": {
      "image/png": "[encoded data removed]",
      "text/plain": [
       "<Figure size 1000x400 with 2 Axes>"
      ]
     },
     "metadata": {},
     "output_type": "display_data"
    }
   ],
   "source": [
    "assert [num_qubits  for num_qubits, _, _ in aer_result] == [num_qubits  for num_qubits, _, _ in ddsim_result]\n",
    "x = [num_qubits  for num_qubits, _, _ in aer_result]\n",
    "success_possibilities_aer = [success_possibility  for _, success_possibility, _ in aer_result]\n",
    "success_possibilities_ddsim = [success_possibility  for _, success_possibility, _ in ddsim_result]\n",
    "times_taken_aer = [time_taken  for _, _, time_taken in aer_result]\n",
    "times_taken_ddsim = [time_taken  for _, _, time_taken in ddsim_result]\n",
    "\n",
    "fig, axes = plt.subplots(ncols=2, figsize=(10,4))\n",
    "\n",
    "# Success probability\n",
    "axes[0].scatter(x, success_possibilities_aer, color=\"blue\", s=20, label=\"AerSimulator\")\n",
    "axes[0].scatter(x, success_possibilities_ddsim, color=\"red\", s=5, label=\"DDSIMlator\")\n",
    "axes[0].set_xlabel(\"the number of qubits\")\n",
    "axes[0].set_ylabel(\"Avg. success probability\")\n",
    "axes[0].legend()\n",
    "\n",
    "# Time taken\n",
    "axes[1].scatter(x, times_taken_aer, color=\"blue\", s=20, label=\"AerSimulator\")\n",
    "axes[1].scatter(x, times_taken_ddsim, color=\"red\", s=5, label=\"DDSIMlator\")\n",
    "axes[1].set_xlabel(\"the number of qubits\")\n",
    "axes[1].set_ylabel(\"Avg. time to execute\")\n",
    "axes[1].legend()\n",
    "\n",
    "plt.savefig(\"ddsim_vs_aer_qubits.png\")\n",
    "\n",
    "plt.show()"
   ]
  },
  {
   "cell_type": "markdown",
   "id": "53fa7099-ecd8-46f7-a157-0b333504eb1c",
   "metadata": {},
   "source": [
    "### Increase in the number of adder"
   ]
  },
  {
   "cell_type": "code",
   "execution_count": 25,
   "id": "6430e0cf-f183-4e66-b3db-6c11b9647c2c",
   "metadata": {},
   "outputs": [],
   "source": [
    "def get_deep_circuit(num_state_qubits, a, b, depth):\n",
    "    if depth <= 0:\n",
    "        depth = 1\n",
    "\n",
    "    circuit = qiskit.circuit.library.DraperQFTAdder(num_state_qubits, kind='half')\n",
    "\n",
    "    a_bin = bin(a)[2:]\n",
    "    b_bin = bin(b)[2:]\n",
    "    out_bin = bin(a + b)[2:]\n",
    "    # print(f\"a + b = {a} + {b} = {int(out_bin, 2)}\")\n",
    "    \n",
    "    for index, letter in enumerate(a_bin[::-1]):\n",
    "        if letter == \"1\":\n",
    "            circuit.compose(qiskit.circuit.library.XGate(), [index], front=True, inplace=True)\n",
    "    for index, letter in enumerate(b_bin[::-1], num_state_qubits):\n",
    "        if letter == \"1\":\n",
    "            circuit.compose(qiskit.circuit.library.XGate(), [index], front=True, inplace=True)\n",
    "\n",
    "    for _ in range(depth - 1):\n",
    "        circuit.compose(qiskit.circuit.library.DraperQFTAdder(num_state_qubits, kind='half'), range(circuit.num_qubits), inplace=True)\n",
    "\n",
    "    return circuit"
   ]
  },
  {
   "cell_type": "code",
   "execution_count": 26,
   "id": "d9efd138-8b93-4d35-b9cb-d9054a839a9c",
   "metadata": {},
   "outputs": [
    {
     "name": "stdout",
     "output_type": "stream",
     "text": [
      "CPU times: user 28min 6s, sys: 3min 27s, total: 31min 34s\n",
      "Wall time: 9min 37s\n"
     ]
    }
   ],
   "source": [
    "%%time\n",
    "random.seed(SEED)\n",
    "\n",
    "num_state_qubits = 10\n",
    "max_depth = 20\n",
    "num_trials = 3\n",
    "\n",
    "aer_jobs = dict()\n",
    "ddsim_jobs = dict()\n",
    "for depth in range(1, max_depth + 1):\n",
    "    for _ in range(num_trials):\n",
    "        max_number = (2 ** num_state_qubits) - 1\n",
    "        a = random.randint(0, max_number)\n",
    "        b = random.randint(0, max_number)\n",
    "        \n",
    "        # Get the target circuit.\n",
    "        circuit = get_deep_circuit(num_state_qubits, a, b, depth)\n",
    "        \n",
    "        # Make the key for the dicts.\n",
    "        result = (a * depth + b) % (2 ** (num_state_qubits + 1))\n",
    "        key = (depth, num_trials, a, b, result)\n",
    "    \n",
    "        # Transpile the circuit for Aer.\n",
    "        pass_manager = qiskit.transpiler.generate_preset_pass_manager(\n",
    "            optimization_level=3,\n",
    "            backend=aer_qasm,\n",
    "            seed_transpiler=SEED,\n",
    "        )\n",
    "        trainspiled_circuit_for_aer = pass_manager.run(circuit)\n",
    "        trainspiled_circuit_for_aer.add_register(\n",
    "            qiskit.ClassicalRegister(circuit.num_qubits - circuit.num_state_qubits)\n",
    "        )\n",
    "        for c_index in range(trainspiled_circuit_for_aer.num_qubits - num_state_qubits):\n",
    "            q_index = c_index + num_state_qubits\n",
    "            trainspiled_circuit_for_aer.measure(q_index, c_index)\n",
    "        # Run the circuit with Aer.\n",
    "        job = aer_qasm.run(trainspiled_circuit_for_aer, shots=SHOTS)\n",
    "        \n",
    "        aer_jobs[key] = job\n",
    "    \n",
    "        # Transpile the circuit for DDSIM.\n",
    "        pass_manager = qiskit.transpiler.generate_preset_pass_manager(\n",
    "            optimization_level=3,\n",
    "            backend=ddsim_qasm,\n",
    "            seed_transpiler=SEED,\n",
    "        )\n",
    "        trainspiled_circuit_for_ddsim = pass_manager.run(circuit)\n",
    "        trainspiled_circuit_for_ddsim.add_register(\n",
    "            qiskit.ClassicalRegister(circuit.num_qubits - circuit.num_state_qubits)\n",
    "        )\n",
    "        for c_index in range(trainspiled_circuit_for_aer.num_qubits - num_state_qubits):\n",
    "            q_index = c_index + num_state_qubits\n",
    "            trainspiled_circuit_for_ddsim.measure(q_index, c_index)\n",
    "        # Run the circuit with DDSIM.\n",
    "        job = ddsim_qasm.run(trainspiled_circuit_for_ddsim, shots=SHOTS)\n",
    "        ddsim_jobs[key] = job"
   ]
  },
  {
   "cell_type": "code",
   "execution_count": 27,
   "id": "6249ff15-7cb0-4e33-ad60-0a0fabebdc13",
   "metadata": {},
   "outputs": [
    {
     "data": {
      "text/plain": [
       "[(1, 1.0, 0.9007825),\n",
       " (2, 1.0, 1.6567884723333333),\n",
       " (3, 1.0, 2.414385472333333),\n",
       " (4, 1.0, 3.254528528333333),\n",
       " (5, 1.0, 3.921813416333334),\n",
       " (6, 1.0, 4.719968555333334),\n",
       " (7, 1.0, 5.529696347333332),\n",
       " (8, 1.0, 6.371555139000001),\n",
       " (9, 1.0, 7.312892902999999),\n",
       " (10, 1.0, 8.184012569333333),\n",
       " (11, 1.0, 8.606600499999999),\n",
       " (12, 1.0, 9.507874361),\n",
       " (13, 1.0, 10.193937486000001),\n",
       " (14, 1.0, 11.019931249999999),\n",
       " (15, 1.0, 12.837036235999998),\n",
       " (16, 1.0, 13.088461653333335),\n",
       " (17, 1.0, 14.018562041000001),\n",
       " (18, 1.0, 14.629631263999999),\n",
       " (19, 1.0, 15.555074),\n",
       " (20, 1.0, 16.171442014333334)]"
      ]
     },
     "execution_count": 27,
     "metadata": {},
     "output_type": "execute_result"
    }
   ],
   "source": [
    "# Organise the data for Aer.\n",
    "aer_results = dict()\n",
    "for key, aer_job in aer_jobs.items():\n",
    "    num_qubits = key[0]\n",
    "    if num_qubits not in aer_results:\n",
    "        aer_results[num_qubits] = {\"success_possibilities\": [], \"time_taken\": []}\n",
    "\n",
    "    if not aer_job.result().results[0].success:\n",
    "        continue\n",
    "\n",
    "    true_key_digit = key[-1]\n",
    "    aer_results[num_qubits][\"success_possibilities\"].append(get_success_possibility(aer_job, true_key_digit))\n",
    "    aer_results[num_qubits][\"time_taken\"].append(get_time_taken_from_aer(aer_job))\n",
    "\n",
    "aer_result = [\n",
    "    (num_qubits,\n",
    "     float(np.mean(aer_results[num_qubits][\"success_possibilities\"])),\n",
    "     float(np.mean(aer_results[num_qubits][\"time_taken\"])),\n",
    "    )\n",
    "    for num_qubits in aer_results.keys()\n",
    "]\n",
    "aer_result"
   ]
  },
  {
   "cell_type": "code",
   "execution_count": 28,
   "id": "adabbc38-7f6c-4521-9b5e-3633e15171a9",
   "metadata": {},
   "outputs": [
    {
     "data": {
      "text/plain": [
       "[(1, 1.0, 0.025707403818766277),\n",
       " (2, 1.0, 0.026146650314331055),\n",
       " (3, 1.0, 0.030513842900594074),\n",
       " (4, 1.0, 0.030558347702026367),\n",
       " (5, 1.0, 0.03859210014343262),\n",
       " (6, 1.0, 0.04026548067728678),\n",
       " (7, 1.0, 0.04094990094502767),\n",
       " (8, 1.0, 0.037010749181111656),\n",
       " (9, 1.0, 0.03517810503641764),\n",
       " (10, 1.0, 0.03474752108256022),\n",
       " (11, 1.0, 0.04469490051269531),\n",
       " (12, 1.0, 0.04243906339009603),\n",
       " (13, 1.0, 0.03602719306945801),\n",
       " (14, 1.0, 0.035089731216430664),\n",
       " (15, 1.0, 0.03907966613769531),\n",
       " (16, 1.0, 0.0421753724416097),\n",
       " (17, 1.0, 0.038157145182291664),\n",
       " (18, 1.0, 0.04076735178629557),\n",
       " (19, 1.0, 0.041208744049072266),\n",
       " (20, 1.0, 0.038050572077433266)]"
      ]
     },
     "execution_count": 28,
     "metadata": {},
     "output_type": "execute_result"
    }
   ],
   "source": [
    "# Organise the data for DDSIM.\n",
    "ddsim_results = dict()\n",
    "for key, ddsim_job in ddsim_jobs.items():\n",
    "    num_qubits = key[0]\n",
    "    if num_qubits not in ddsim_results:\n",
    "        ddsim_results[num_qubits] = {\"success_possibilities\": [], \"time_taken\": []}\n",
    "\n",
    "    if not ddsim_job.result().results[0].success:\n",
    "        continue\n",
    "    \n",
    "    true_key_digit = key[-1]\n",
    "    ddsim_results[num_qubits][\"success_possibilities\"].append(get_success_possibility(ddsim_job, true_key_digit))\n",
    "    ddsim_results[num_qubits][\"time_taken\"].append(get_time_taken_from_ddsim(ddsim_job))\n",
    "\n",
    "ddsim_result = [\n",
    "    (num_qubits,\n",
    "     float(np.mean(ddsim_results[num_qubits][\"success_possibilities\"])),\n",
    "     float(np.mean(ddsim_results[num_qubits][\"time_taken\"])),\n",
    "    )\n",
    "    for num_qubits in ddsim_results.keys()\n",
    "]\n",
    "ddsim_result"
   ]
  },
  {
   "cell_type": "code",
   "execution_count": 29,
   "id": "3a066715-9274-4e01-beae-7ddd29545326",
   "metadata": {},
   "outputs": [
    {
     "data": {
      "image/png": "[encoded data removed]",
      "text/plain": [
       "<Figure size 1000x400 with 2 Axes>"
      ]
     },
     "metadata": {},
     "output_type": "display_data"
    }
   ],
   "source": [
    "assert [num_qubits  for num_qubits, _, _ in aer_result] == [num_qubits  for num_qubits, _, _ in ddsim_result]\n",
    "x = [num_qubits  for num_qubits, _, _ in aer_result]\n",
    "success_possibilities_aer = [success_possibility  for _, success_possibility, _ in aer_result]\n",
    "success_possibilities_ddsim = [success_possibility  for _, success_possibility, _ in ddsim_result]\n",
    "times_taken_aer = [time_taken  for _, _, time_taken in aer_result]\n",
    "times_taken_ddsim = [time_taken  for _, _, time_taken in ddsim_result]\n",
    "\n",
    "fig, axes = plt.subplots(ncols=2, figsize=(10,4))\n",
    "\n",
    "# Success probability\n",
    "axes[0].scatter(x, success_possibilities_aer, color=\"blue\", s=20, label=\"AerSimulator\")\n",
    "axes[0].scatter(x, success_possibilities_ddsim, color=\"red\", s=5, label=\"DDSIMlator\")\n",
    "axes[0].set_xlabel(\"the number of adders\")\n",
    "axes[0].set_ylabel(\"Avg. success probability\")\n",
    "axes[0].legend()\n",
    "\n",
    "# Time taken\n",
    "axes[1].scatter(x, times_taken_aer, color=\"blue\", s=20, label=\"AerSimulator\")\n",
    "axes[1].scatter(x, times_taken_ddsim, color=\"red\", s=5, label=\"DDSIMlator\")\n",
    "axes[1].set_xlabel(\"the number of adders\")\n",
    "axes[1].set_ylabel(\"Avg. time to execute\")\n",
    "axes[1].legend()\n",
    "\n",
    "plt.savefig(\"ddsim_vs_aer_gates.png\")\n",
    "\n",
    "plt.show()"
   ]
  }
 ],
 "metadata": {
  "kernelspec": {
   "display_name": "Python 3 (ipykernel)",
   "language": "python",
   "name": "python3"
  },
  "language_info": {
   "codemirror_mode": {
    "name": "ipython",
    "version": 3
   },
   "file_extension": ".py",
   "mimetype": "text/x-python",
   "name": "python",
   "nbconvert_exporter": "python",
   "pygments_lexer": "ipython3",
   "version": "3.13.2"
  }
 },
 "nbformat": 4,
 "nbformat_minor": 5
}
