{
 "cells": [
  {
   "cell_type": "markdown",
   "id": "be3e67fb-bca7-4479-8f71-ba94b5174c97",
   "metadata": {},
   "source": [
    "# DDSIM vs Qiskit Aer"
   ]
  },
  {
   "cell_type": "code",
   "execution_count": 1,
   "id": "1b919709-9ebc-4a3c-8b2d-de4e7c3ccb8f",
   "metadata": {},
   "outputs": [],
   "source": [
    "import time\n",
    "import random\n",
    "\n",
    "import matplotlib.pyplot as plt\n",
    "from mqt import ddsim\n",
    "import numpy as np\n",
    "import qiskit\n",
    "import qiskit_aer"
   ]
  },
  {
   "cell_type": "markdown",
   "id": "fa562732-ef91-473f-bdcb-5b74b76eb945",
   "metadata": {},
   "source": [
    "## One case"
   ]
  },
  {
   "cell_type": "markdown",
   "id": "0ce9ab4e-c437-45f2-bc9b-296bed56febb",
   "metadata": {},
   "source": [
    "### Create the target circuits"
   ]
  },
  {
   "cell_type": "code",
   "execution_count": 2,
   "id": "63bb96a1-2dc5-4127-9edc-ba1660fbc72e",
   "metadata": {},
   "outputs": [
    {
     "name": "stdout",
     "output_type": "stream",
     "text": [
      "a + b = 7 + 5 = 12\n"
     ]
    }
   ],
   "source": [
    "num_state_qubits = 13\n",
    "circuit = qiskit.circuit.library.DraperQFTAdder(num_state_qubits)\n",
    "\n",
    "# ==========\n",
    "a = 7\n",
    "b = 5\n",
    "# ==========\n",
    "a_bin = bin(a)[2:]\n",
    "b_bin = bin(b)[2:]\n",
    "out_bin = bin(a + b)[2:]\n",
    "print(f\"a + b = {a} + {b} = {int(out_bin, 2)}\")\n",
    "\n",
    "for index, letter in enumerate(a_bin[::-1]):\n",
    "    if letter == \"1\":\n",
    "        circuit.compose(qiskit.circuit.library.XGate(), [index], front=True, inplace=True)\n",
    "for index, letter in enumerate(b_bin[::-1], num_state_qubits):\n",
    "    if letter == \"1\":\n",
    "        circuit.compose(qiskit.circuit.library.XGate(), [index], front=True, inplace=True)\n",
    "\n",
    "# circuit.draw()"
   ]
  },
  {
   "cell_type": "markdown",
   "id": "ba348fe1-f197-4c88-90b5-3579052ebf15",
   "metadata": {},
   "source": [
    "### Define utils"
   ]
  },
  {
   "cell_type": "code",
   "execution_count": 3,
   "id": "817437fb-3f28-44c9-affd-bf95334471a9",
   "metadata": {},
   "outputs": [],
   "source": [
    "SEED = 901"
   ]
  },
  {
   "cell_type": "code",
   "execution_count": 4,
   "id": "8f83e2cd-ad7c-48e0-bcd2-975b33ff0152",
   "metadata": {},
   "outputs": [],
   "source": [
    "def convert_counts(original_counts):\n",
    "    return {int(value, 16): original_counts[value] for value in original_counts}"
   ]
  },
  {
   "cell_type": "code",
   "execution_count": 5,
   "id": "08655a2e-9de9-427a-bb85-0fd447480b24",
   "metadata": {},
   "outputs": [],
   "source": [
    "def get_transpiled(backend):\n",
    "    pass_manager = qiskit.transpiler.generate_preset_pass_manager(\n",
    "        optimization_level=3,\n",
    "        backend=backend,\n",
    "        seed_transpiler=SEED,\n",
    "    )\n",
    "\n",
    "    trainspiled_circuit = pass_manager.run(circuit)  # Use the circuit defined above\n",
    "\n",
    "    trainspiled_circuit.add_register(qiskit.ClassicalRegister(circuit.num_qubits - circuit.num_state_qubits))\n",
    "    trainspiled_circuit.measure(trainspiled_circuit.qregs[-1], trainspiled_circuit.cregs[0])\n",
    "    \n",
    "    return trainspiled_circuit"
   ]
  },
  {
   "cell_type": "code",
   "execution_count": 6,
   "id": "904cc84d-2b02-4a57-8d71-a452566e3e7c",
   "metadata": {},
   "outputs": [],
   "source": [
    "def run(backend):\n",
    "    assert SEED == backend.options.seed_simulator\n",
    "    transpiled_circuit = get_transpiled(backend)\n",
    "    \n",
    "    job = backend.run(transpiled_circuit, shots=8192)\n",
    "\n",
    "    return job"
   ]
  },
  {
   "cell_type": "markdown",
   "id": "a34f4c8f-5c52-416a-8ddd-f6c3142f6836",
   "metadata": {},
   "source": [
    "### Check the backends"
   ]
  },
  {
   "cell_type": "code",
   "execution_count": 7,
   "id": "ada25da4-9c24-479c-a655-f61f16f2c434",
   "metadata": {},
   "outputs": [
    {
     "data": {
      "text/plain": [
       "[<mqt.ddsim.qasmsimulator.QasmSimulatorBackend at 0x115163e00>,\n",
       " <mqt.ddsim.statevectorsimulator.StatevectorSimulatorBackend at 0x115728050>,\n",
       " <mqt.ddsim.hybridqasmsimulator.HybridQasmSimulatorBackend at 0x1157281a0>,\n",
       " <mqt.ddsim.hybridstatevectorsimulator.HybridStatevectorSimulatorBackend at 0x1157282f0>,\n",
       " <mqt.ddsim.pathqasmsimulator.PathQasmSimulatorBackend at 0x115728440>,\n",
       " <mqt.ddsim.pathstatevectorsimulator.PathStatevectorSimulatorBackend at 0x115728590>,\n",
       " <mqt.ddsim.unitarysimulator.UnitarySimulatorBackend at 0x1157286e0>,\n",
       " <mqt.ddsim.stochasticnoisesimulator.StochasticNoiseSimulatorBackend at 0x115728830>,\n",
       " <mqt.ddsim.deterministicnoisesimulator.DeterministicNoiseSimulatorBackend at 0x115728980>]"
      ]
     },
     "execution_count": 7,
     "metadata": {},
     "output_type": "execute_result"
    }
   ],
   "source": [
    "ddsim.DDSIMProvider().backends()"
   ]
  },
  {
   "cell_type": "code",
   "execution_count": 8,
   "id": "6bb8d5c7-2c77-4c36-94b9-cb70d91d6c79",
   "metadata": {},
   "outputs": [
    {
     "data": {
      "text/plain": [
       "[AerSimulator('aer_simulator'),\n",
       " AerSimulator('aer_simulator_statevector'),\n",
       " AerSimulator('aer_simulator_density_matrix'),\n",
       " AerSimulator('aer_simulator_stabilizer'),\n",
       " AerSimulator('aer_simulator_matrix_product_state'),\n",
       " AerSimulator('aer_simulator_extended_stabilizer'),\n",
       " AerSimulator('aer_simulator_unitary'),\n",
       " AerSimulator('aer_simulator_superop'),\n",
       " QasmSimulator('qasm_simulator'),\n",
       " StatevectorSimulator('statevector_simulator'),\n",
       " UnitarySimulator('unitary_simulator')]"
      ]
     },
     "execution_count": 8,
     "metadata": {},
     "output_type": "execute_result"
    }
   ],
   "source": [
    "qiskit_aer.AerProvider().backends()"
   ]
  },
  {
   "cell_type": "markdown",
   "id": "884cbbaa-f800-49e9-8d7d-b7fc09630a2f",
   "metadata": {},
   "source": [
    "### QASM"
   ]
  },
  {
   "cell_type": "markdown",
   "id": "e49987c5-46a3-439d-8824-e0e9026c3e6e",
   "metadata": {},
   "source": [
    "#### AerSimulator"
   ]
  },
  {
   "cell_type": "code",
   "execution_count": 9,
   "id": "72db8123-2c4c-4302-81aa-a44d2bc7a75f",
   "metadata": {},
   "outputs": [
    {
     "name": "stderr",
     "output_type": "stream",
     "text": [
      "Simulation failed and returned the following error message:\n",
      "ERROR:  [Experiment 0] Insufficient memory to run circuit DraperQFTAdder using the statevector simulator. Required memory: 32768M, max memory: 16384M\n",
      "Simulation failed and returned the following error message:\n",
      "ERROR:  [Experiment 0] Insufficient memory to run circuit DraperQFTAdder using the statevector simulator. Required memory: 32768M, max memory: 16384M\n",
      "Simulation failed and returned the following error message:\n",
      "ERROR:  [Experiment 0] Insufficient memory to run circuit DraperQFTAdder using the statevector simulator. Required memory: 32768M, max memory: 16384M\n",
      "Simulation failed and returned the following error message:\n",
      "ERROR:  [Experiment 0] Insufficient memory to run circuit DraperQFTAdder using the statevector simulator. Required memory: 32768M, max memory: 16384M\n",
      "Simulation failed and returned the following error message:\n",
      "ERROR:  [Experiment 0] Insufficient memory to run circuit DraperQFTAdder using the statevector simulator. Required memory: 32768M, max memory: 16384M\n",
      "Simulation failed and returned the following error message:\n",
      "ERROR:  [Experiment 0] Insufficient memory to run circuit DraperQFTAdder using the statevector simulator. Required memory: 32768M, max memory: 16384M\n",
      "Simulation failed and returned the following error message:\n",
      "ERROR:  [Experiment 0] Insufficient memory to run circuit DraperQFTAdder using the statevector simulator. Required memory: 32768M, max memory: 16384M\n",
      "Simulation failed and returned the following error message:\n",
      "ERROR:  [Experiment 0] Insufficient memory to run circuit DraperQFTAdder using the statevector simulator. Required memory: 32768M, max memory: 16384M\n",
      "Simulation failed and returned the following error message:\n",
      "ERROR:  [Experiment 0] Insufficient memory to run circuit DraperQFTAdder using the statevector simulator. Required memory: 32768M, max memory: 16384M\n",
      "Simulation failed and returned the following error message:\n",
      "ERROR:  [Experiment 0] Insufficient memory to run circuit DraperQFTAdder using the statevector simulator. Required memory: 32768M, max memory: 16384M\n"
     ]
    }
   ],
   "source": [
    "aer_qasm = qiskit_aer.AerSimulator(seed_simulator=SEED)\n",
    "aer_qasm_job = run(aer_qasm)"
   ]
  },
  {
   "cell_type": "code",
   "execution_count": 10,
   "id": "01a0c879-d2ef-4a2b-a619-d74d53661a11",
   "metadata": {},
   "outputs": [
    {
     "name": "stdout",
     "output_type": "stream",
     "text": [
      "JobStatus.DONE\n",
      "{12: 8192}\n"
     ]
    },
    {
     "data": {
      "text/plain": [
       "17.62129125"
      ]
     },
     "execution_count": 10,
     "metadata": {},
     "output_type": "execute_result"
    }
   ],
   "source": [
    "print(aer_qasm_job.status())\n",
    "print(convert_counts(aer_qasm_job.result().results[0].data.counts))\n",
    "aer_qasm_job.result().results[0].metadata[\"time_taken\"]"
   ]
  },
  {
   "cell_type": "markdown",
   "id": "f4ea0b1d-66a1-476a-ade3-819d491b9bbe",
   "metadata": {},
   "source": [
    "#### Among DDSIM"
   ]
  },
  {
   "cell_type": "markdown",
   "id": "35ae4dae-a1b3-40a4-be30-7d4d7f74e55d",
   "metadata": {},
   "source": [
    "##### `QasmSimulatorBackend`"
   ]
  },
  {
   "cell_type": "code",
   "execution_count": 11,
   "id": "523e1ee0-047f-42b2-a353-87dd49c31386",
   "metadata": {},
   "outputs": [],
   "source": [
    "ddsim_qasm = ddsim.qasmsimulator.QasmSimulatorBackend()\n",
    "ddsim_qasm.options.update_options(seed_simulator=SEED)\n",
    "\n",
    "ddsim_qasm_job = run(ddsim_qasm)"
   ]
  },
  {
   "cell_type": "code",
   "execution_count": 12,
   "id": "98c63e29-327d-47f5-b953-a5f3b9c6c16e",
   "metadata": {},
   "outputs": [
    {
     "name": "stdout",
     "output_type": "stream",
     "text": [
      "JobStatus.DONE\n",
      "{12: 8192}\n"
     ]
    },
    {
     "data": {
      "text/plain": [
       "0.010968923568725586"
      ]
     },
     "execution_count": 12,
     "metadata": {},
     "output_type": "execute_result"
    }
   ],
   "source": [
    "print(ddsim_qasm_job.status())\n",
    "print(convert_counts(ddsim_qasm_job.result().results[0].data.counts))\n",
    "ddsim_qasm_job.result().results[0].data.time_taken"
   ]
  },
  {
   "cell_type": "markdown",
   "id": "97aa5e5b-99a4-4fdb-81b9-bb734330e248",
   "metadata": {},
   "source": [
    "##### `HybridQasmSimulatorBackend`\n",
    "`MemoryError: std::bad_alloc` arises."
   ]
  },
  {
   "cell_type": "code",
   "execution_count": 13,
   "id": "3e34a16f-bb3a-44ba-ba51-dc37e307fd9a",
   "metadata": {},
   "outputs": [],
   "source": [
    "# ddsim_hybrid_qasm = ddsim.hybridqasmsimulator.HybridQasmSimulatorBackend()\n",
    "# ddsim_hybrid_qasm.options.update_options(seed_simulator=SEED)\n",
    "# 1\n",
    "# ddsim_hybrid_qasm_job = run(ddsim_hybrid_qasm)"
   ]
  },
  {
   "cell_type": "code",
   "execution_count": 14,
   "id": "1d453ca2-5212-4f60-bc56-ae3f2780be7b",
   "metadata": {
    "scrolled": true
   },
   "outputs": [],
   "source": [
    "# print(convert_counts(ddsim_hybrid_qasm_job.result().results[0].data.counts))\n",
    "# ddsim_qasm_job.result().results[0].data.time_taken"
   ]
  },
  {
   "cell_type": "markdown",
   "id": "1ac378d9-d6f0-4522-a53e-f3e7a2b495e0",
   "metadata": {},
   "source": [
    "##### `PathQasmSimulatorBackend`\n",
    "`MemoryError: std::bad_alloc` arises."
   ]
  },
  {
   "cell_type": "code",
   "execution_count": 15,
   "id": "9b9d318e-87e9-4d4d-9836-3d226016aab8",
   "metadata": {},
   "outputs": [],
   "source": [
    "# ddsim_path_qasm = ddsim.pathqasmsimulator.PathQasmSimulatorBackend()\n",
    "# ddsim_path_qasm.options.update_options(seed_simulator=SEED)\n",
    "\n",
    "# ddsim_path_qasm_job = run(ddsim_hybrid_qasm)"
   ]
  },
  {
   "cell_type": "code",
   "execution_count": 16,
   "id": "a6841ff9-db2d-4118-aae7-ff1dfbdce495",
   "metadata": {},
   "outputs": [],
   "source": [
    "# print(convert_counts(ddsim_path_qasm_job.result().results[0].data.counts))\n",
    "# ddsim_path_qasm_job.result().results[0].data.time_taken"
   ]
  },
  {
   "cell_type": "markdown",
   "id": "0a68dbc3-24da-48de-926a-b27947f78bf3",
   "metadata": {},
   "source": [
    "## Comprehensive Analysis"
   ]
  },
  {
   "cell_type": "markdown",
   "id": "4027392f-97a7-4561-babe-9b19ea2b99ee",
   "metadata": {},
   "source": [
    "### Increase in the number of qubtis"
   ]
  },
  {
   "cell_type": "code",
   "execution_count": 17,
   "id": "40530fe0-7f14-48a2-a3af-dec33b096286",
   "metadata": {},
   "outputs": [],
   "source": [
    "def get_circuit(num_state_qubits, a, b):\n",
    "    circuit = qiskit.circuit.library.DraperQFTAdder(num_state_qubits, kind='half')\n",
    "\n",
    "    a_bin = bin(a)[2:]\n",
    "    b_bin = bin(b)[2:]\n",
    "    out_bin = bin(a + b)[2:]\n",
    "    # print(f\"a + b = {a} + {b} = {int(out_bin, 2)}\")\n",
    "    \n",
    "    for index, letter in enumerate(a_bin[::-1]):\n",
    "        if letter == \"1\":\n",
    "            circuit.compose(qiskit.circuit.library.XGate(), [index], front=True, inplace=True)\n",
    "    for index, letter in enumerate(b_bin[::-1], num_state_qubits):\n",
    "        if letter == \"1\":\n",
    "            circuit.compose(qiskit.circuit.library.XGate(), [index], front=True, inplace=True)\n",
    "\n",
    "    return circuit"
   ]
  },
  {
   "cell_type": "code",
   "execution_count": 18,
   "id": "acc1ff28-48ae-4764-bd9c-cd59c5b9c383",
   "metadata": {},
   "outputs": [],
   "source": [
    "SEED = 901\n",
    "SHOTS = 8192\n",
    "\n",
    "def convert_counts(original_counts):\n",
    "    return {int(value, 16): original_counts[value] for value in original_counts}"
   ]
  },
  {
   "cell_type": "code",
   "execution_count": 19,
   "id": "197671f6-2477-4a44-ad4b-b22ff8835c27",
   "metadata": {},
   "outputs": [],
   "source": [
    "aer_qasm = qiskit_aer.AerSimulator(seed_simulator=SEED)\n",
    "\n",
    "ddsim_qasm = ddsim.qasmsimulator.QasmSimulatorBackend()\n",
    "ddsim_qasm.options.update_options(seed_simulator=SEED)"
   ]
  },
  {
   "cell_type": "code",
   "execution_count": 20,
   "id": "11056e9a-1e60-435d-8776-c7689300e710",
   "metadata": {},
   "outputs": [
    {
     "name": "stdout",
     "output_type": "stream",
     "text": [
      "CPU times: user 3h 45min 15s, sys: 40min 14s, total: 4h 25min 29s\n",
      "Wall time: 46min 14s\n"
     ]
    }
   ],
   "source": [
    "%%time\n",
    "random.seed(SEED)\n",
    "\n",
    "max_num_state_qubits = 15\n",
    "num_trials = 10\n",
    "\n",
    "aer_jobs = dict()\n",
    "ddsim_jobs = dict()\n",
    "for num_state_qubits in range(1, max_num_state_qubits+1):\n",
    "    for _ in range(num_trials):\n",
    "        max_number = (2 ** num_state_qubits) - 1\n",
    "        a = random.randint(0, max_number)\n",
    "        b = random.randint(0, max_number)\n",
    "        \n",
    "        # Get the target circuit.\n",
    "        circuit = get_circuit(num_state_qubits, a, b)\n",
    "        \n",
    "        # Make the key for the dicts.\n",
    "        result = a + b\n",
    "        key = (circuit.num_qubits, num_trials, a, b, result)\n",
    "    \n",
    "        # Transpile the circuit for Aer.\n",
    "        pass_manager = qiskit.transpiler.generate_preset_pass_manager(\n",
    "            optimization_level=3,\n",
    "            backend=aer_qasm,\n",
    "            seed_transpiler=SEED,\n",
    "        )\n",
    "        trainspiled_circuit_for_aer = pass_manager.run(circuit)\n",
    "        trainspiled_circuit_for_aer.add_register(\n",
    "            qiskit.ClassicalRegister(circuit.num_qubits - circuit.num_state_qubits)\n",
    "        )\n",
    "        for c_index in range(trainspiled_circuit_for_aer.num_qubits - num_state_qubits):\n",
    "            q_index = c_index + num_state_qubits\n",
    "            trainspiled_circuit_for_aer.measure(q_index, c_index)\n",
    "        # Run the circuit with Aer.\n",
    "        job = aer_qasm.run(trainspiled_circuit_for_aer, shots=SHOTS)\n",
    "        aer_jobs[key] = job\n",
    "    \n",
    "        # Transpile the circuit for DDSIM.\n",
    "        pass_manager = qiskit.transpiler.generate_preset_pass_manager(\n",
    "            optimization_level=3,\n",
    "            backend=ddsim_qasm,\n",
    "            seed_transpiler=SEED,\n",
    "        )\n",
    "        trainspiled_circuit_for_ddsim = pass_manager.run(circuit)\n",
    "        trainspiled_circuit_for_ddsim.add_register(\n",
    "            qiskit.ClassicalRegister(circuit.num_qubits - circuit.num_state_qubits)\n",
    "        )\n",
    "        for c_index in range(trainspiled_circuit_for_ddsim.num_qubits - num_state_qubits):\n",
    "            q_index = c_index + num_state_qubits\n",
    "            trainspiled_circuit_for_ddsim.measure(q_index, c_index)\n",
    "        # Run the circuit with DDSIM.\n",
    "        job = ddsim_qasm.run(trainspiled_circuit_for_ddsim, shots=SHOTS)\n",
    "        ddsim_jobs[key] = job"
   ]
  },
  {
   "cell_type": "code",
   "execution_count": 21,
   "id": "7a20b87d-e345-4782-996b-b19e34d12872",
   "metadata": {},
   "outputs": [],
   "source": [
    "# Define functions to organise data.\n",
    "def get_success_possibility(job, true_key_digit, shots=SHOTS):\n",
    "    counts_digit = convert_counts(job.result().results[0].data.counts)\n",
    "    return counts_digit[true_key_digit] / shots\n",
    "\n",
    "def get_time_taken_from_aer(job):\n",
    "    return job.result().results[0].metadata[\"time_taken\"]\n",
    "\n",
    "def get_time_taken_from_ddsim(job):\n",
    "    return job.result().results[0].data.time_taken"
   ]
  },
  {
   "cell_type": "code",
   "execution_count": 22,
   "id": "2e0b080c-dfe7-420c-b41a-e065dc225727",
   "metadata": {},
   "outputs": [
    {
     "name": "stderr",
     "output_type": "stream",
     "text": [
      "/Users/ksk/.pyenv/versions/3.13.2/envs/backend_comparison/lib/python3.13/site-packages/numpy/_core/fromnumeric.py:3860: RuntimeWarning: Mean of empty slice.\n",
      "  return _methods._mean(a, axis=axis, dtype=dtype,\n",
      "/Users/ksk/.pyenv/versions/3.13.2/envs/backend_comparison/lib/python3.13/site-packages/numpy/_core/_methods.py:145: RuntimeWarning: invalid value encountered in scalar divide\n",
      "  ret = ret.dtype.type(ret / rcount)\n"
     ]
    },
    {
     "data": {
      "text/plain": [
       "[(3, 1.0, 0.0036428750000000003),\n",
       " (5, 1.0, 0.004889184714285714),\n",
       " (7, 1.0, 0.007109657555555556),\n",
       " (9, 1.0, 0.013463995222222223),\n",
       " (11, 1.0, 0.0238200498),\n",
       " (13, 1.0, 0.024150716699999998),\n",
       " (15, 1.0, 0.011383054100000001),\n",
       " (17, 1.0, 0.03261872910000001),\n",
       " (19, 1.0, 0.08985978339999999),\n",
       " (21, 1.0, 0.4002887958),\n",
       " (23, 1.0, 1.8510963083),\n",
       " (25, 1.0, 8.0073361001),\n",
       " (27, 1.0, 35.5083436335),\n",
       " (29, 1.0, 228.76088200429996),\n",
       " (31, nan, nan)]"
      ]
     },
     "execution_count": 22,
     "metadata": {},
     "output_type": "execute_result"
    }
   ],
   "source": [
    "# Organise the data for Aer.\n",
    "aer_results = dict()\n",
    "for key, aer_job in aer_jobs.items():\n",
    "    num_qubits = key[0]\n",
    "    if num_qubits not in aer_results:\n",
    "        aer_results[num_qubits] = {\"success_possibilities\": [], \"time_taken\": []}\n",
    "\n",
    "    if not aer_job.result().results[0].success:\n",
    "        continue\n",
    "    true_key_digit = key[-1]\n",
    "    aer_results[num_qubits][\"success_possibilities\"].append(get_success_possibility(aer_job, true_key_digit))\n",
    "    aer_results[num_qubits][\"time_taken\"].append(get_time_taken_from_aer(aer_job))\n",
    "\n",
    "aer_result = [\n",
    "    (num_qubits,\n",
    "     float(np.mean(aer_results[num_qubits][\"success_possibilities\"])),\n",
    "     float(np.mean(aer_results[num_qubits][\"time_taken\"])),\n",
    "    )\n",
    "    for num_qubits in aer_results.keys()\n",
    "]\n",
    "aer_result"
   ]
  },
  {
   "cell_type": "code",
   "execution_count": 23,
   "id": "969f6088-844b-41aa-a4f0-31c483e290f4",
   "metadata": {},
   "outputs": [
    {
     "data": {
      "text/plain": [
       "[(3, 1.0, 0.0036759376525878906),\n",
       " (5, 1.0, 0.003980977194649833),\n",
       " (7, 1.0, 0.004554589589436849),\n",
       " (9, 1.0, 0.0054327381981743705),\n",
       " (11, 1.0, 0.006635189056396484),\n",
       " (13, 1.0, 0.012125802040100098),\n",
       " (15, 1.0, 0.014391422271728516),\n",
       " (17, 1.0, 0.015348362922668456),\n",
       " (19, 1.0, 0.01678755283355713),\n",
       " (21, 1.0, 0.01918771266937256),\n",
       " (23, 1.0, 0.021355390548706055),\n",
       " (25, 1.0, 0.02190370559692383),\n",
       " (27, 1.0, 0.022709059715270995),\n",
       " (29, 1.0, 0.024019289016723632),\n",
       " (31, 1.0, 0.017694735527038576)]"
      ]
     },
     "execution_count": 23,
     "metadata": {},
     "output_type": "execute_result"
    }
   ],
   "source": [
    "# Organise the data for DDSIM.\n",
    "ddsim_results = dict()\n",
    "for key, ddsim_job in ddsim_jobs.items():\n",
    "    num_qubits = key[0]\n",
    "    if num_qubits not in ddsim_results:\n",
    "        ddsim_results[num_qubits] = {\"success_possibilities\": [], \"time_taken\": []}\n",
    "\n",
    "    if not ddsim_job.result().results[0].success:\n",
    "        continue\n",
    "    \n",
    "    true_key_digit = key[-1]\n",
    "    ddsim_results[num_qubits][\"success_possibilities\"].append(get_success_possibility(ddsim_job, true_key_digit))\n",
    "    ddsim_results[num_qubits][\"time_taken\"].append(get_time_taken_from_ddsim(ddsim_job))\n",
    "\n",
    "ddsim_result = [\n",
    "    (num_qubits,\n",
    "     float(np.mean(ddsim_results[num_qubits][\"success_possibilities\"])),\n",
    "     float(np.mean(ddsim_results[num_qubits][\"time_taken\"])),\n",
    "    )\n",
    "    for num_qubits in ddsim_results.keys()\n",
    "]\n",
    "ddsim_result"
   ]
  },
  {
   "cell_type": "code",
   "execution_count": 24,
   "id": "1b7301b7-483e-41c2-9776-87cf9c2d05b0",
   "metadata": {},
   "outputs": [
    {
     "data": {
      "image/png": "[encoded data removed]",
      "text/plain": [
       "<Figure size 1000x400 with 2 Axes>"
      ]
     },
     "metadata": {},
     "output_type": "display_data"
    }
   ],
   "source": [
    "assert [num_qubits  for num_qubits, _, _ in aer_result] == [num_qubits  for num_qubits, _, _ in ddsim_result]\n",
    "x = [num_qubits  for num_qubits, _, _ in aer_result]\n",
    "success_possibilities_aer = [success_possibility  for _, success_possibility, _ in aer_result]\n",
    "success_possibilities_ddsim = [success_possibility  for _, success_possibility, _ in ddsim_result]\n",
    "times_taken_aer = [time_taken  for _, _, time_taken in aer_result]\n",
    "times_taken_ddsim = [time_taken  for _, _, time_taken in ddsim_result]\n",
    "\n",
    "fig, axes = plt.subplots(ncols=2, figsize=(10,4))\n",
    "\n",
    "# Success probability\n",
    "axes[0].scatter(x, success_possibilities_aer, color=\"blue\", s=20, label=\"AerSimulator\")\n",
    "axes[0].scatter(x, success_possibilities_ddsim, color=\"red\", s=5, label=\"DDSIMulator\")\n",
    "axes[0].set_xlabel(\"the number of qubits\")\n",
    "axes[0].set_ylabel(\"Avg. success probability\")\n",
    "axes[0].legend()\n",
    "\n",
    "# Time taken\n",
    "axes[1].scatter(x, times_taken_aer, color=\"blue\", s=20, label=\"AerSimulator\")\n",
    "axes[1].scatter(x, times_taken_ddsim, color=\"red\", s=5, label=\"DDSIMulator\")\n",
    "axes[1].set_xlabel(\"the number of qubits\")\n",
    "axes[1].set_ylabel(\"Avg. time to execute\")\n",
    "axes[1].legend()\n",
    "\n",
    "plt.savefig(\"ddsim_vs_aer_qubits.png\")\n",
    "\n",
    "plt.show()"
   ]
  },
  {
   "cell_type": "code",
   "execution_count": 25,
   "id": "6ec8afe8-a403-4a2b-98b6-05fbc2b567ae",
   "metadata": {},
   "outputs": [
    {
     "name": "stdout",
     "output_type": "stream",
     "text": [
      "CPU times: user 1min 54s, sys: 1.76 s, total: 1min 56s\n",
      "Wall time: 1min 56s\n"
     ]
    }
   ],
   "source": [
    "%%time\n",
    "random.seed(SEED)\n",
    "\n",
    "additional_max_num_state_qubits = 42\n",
    "num_trials = 10\n",
    "\n",
    "additional_ddsim_jobs = dict()\n",
    "for num_state_qubits in range(max_num_state_qubits+1, additional_max_num_state_qubits+1):\n",
    "    for _ in range(num_trials):\n",
    "        max_number = (2 ** num_state_qubits) - 1\n",
    "        a = random.randint(0, max_number)\n",
    "        b = random.randint(0, max_number)\n",
    "        \n",
    "        # Get the target circuit.\n",
    "        circuit = get_circuit(num_state_qubits, a, b)\n",
    "        \n",
    "        # Make the key for the dicts.\n",
    "        result = a + b\n",
    "        key = (circuit.num_qubits, num_trials, a, b, result)\n",
    "\n",
    "        # Transpile the circuit for DDSIM.\n",
    "        pass_manager = qiskit.transpiler.generate_preset_pass_manager(\n",
    "            optimization_level=3,\n",
    "            backend=ddsim_qasm,\n",
    "            seed_transpiler=SEED,\n",
    "        )\n",
    "        trainspiled_circuit_for_ddsim = pass_manager.run(circuit)\n",
    "        trainspiled_circuit_for_ddsim.add_register(\n",
    "            qiskit.ClassicalRegister(circuit.num_qubits - circuit.num_state_qubits)\n",
    "        )\n",
    "        for c_index in range(trainspiled_circuit_for_ddsim.num_qubits - num_state_qubits):\n",
    "            q_index = c_index + num_state_qubits\n",
    "            trainspiled_circuit_for_ddsim.measure(q_index, c_index)\n",
    "        # Run the circuit with DDSIM.\n",
    "        job = ddsim_qasm.run(trainspiled_circuit_for_ddsim, shots=SHOTS)\n",
    "        additional_ddsim_jobs[key] = job"
   ]
  },
  {
   "cell_type": "code",
   "execution_count": 26,
   "id": "df4a0d96-1697-42e6-8359-34b004303c28",
   "metadata": {},
   "outputs": [
    {
     "data": {
      "text/plain": [
       "[(33, 1.0, 0.021108174324035646),\n",
       " (35, 1.0, 0.021666574478149413),\n",
       " (37, 1.0, 0.023452186584472658),\n",
       " (39, 1.0, 0.024164819717407228),\n",
       " (41, 1.0, 0.02554032802581787),\n",
       " (43, 1.0, 0.027539753913879396),\n",
       " (45, 1.0, 0.02909531593322754),\n",
       " (47, 1.0, 0.03026413917541504),\n",
       " (49, 1.0, 0.029937887191772462),\n",
       " (51, 1.0, 0.03099977970123291),\n",
       " (53, 1.0, 0.035210037231445314),\n",
       " (55, 1.0, 0.035664701461791994),\n",
       " (57, 1.0, 0.04012994766235352),\n",
       " (59, 1.0, 0.044756603240966794),\n",
       " (61, 1.0, 0.046376514434814456),\n",
       " (63, 1.0, 0.05042011737823486),\n",
       " (65, 1.0, 0.049952125549316405),\n",
       " (67, 1.0, 0.05190255641937256),\n",
       " (69, 1.0, 0.05526742935180664),\n",
       " (71, 1.0, 0.05931501388549805),\n",
       " (73, 1.0, 0.06184267997741699),\n",
       " (75, 1.0, 0.06470041275024414),\n",
       " (77, 1.0, 0.07672412395477295),\n",
       " (79, 1.0, 0.16225008964538573),\n",
       " (81, 1.0, 0.36897706985473633),\n",
       " (83, 1.0, 1.0299203157424928),\n",
       " (85, 1.0, 1.7897029161453246)]"
      ]
     },
     "execution_count": 26,
     "metadata": {},
     "output_type": "execute_result"
    }
   ],
   "source": [
    "# Organise the data for DDSIM.\n",
    "additional_ddsim_results = dict()\n",
    "for key, ddsim_job in additional_ddsim_jobs.items():\n",
    "    num_qubits = key[0]\n",
    "    if num_qubits not in additional_ddsim_results:\n",
    "        additional_ddsim_results[num_qubits] = {\"success_possibilities\": [], \"time_taken\": []}\n",
    "\n",
    "    if not ddsim_job.result().results[0].success:\n",
    "        continue\n",
    "    \n",
    "    true_key_digit = key[-1]\n",
    "    additional_ddsim_results[num_qubits][\"success_possibilities\"].append(get_success_possibility(ddsim_job, true_key_digit))\n",
    "    additional_ddsim_results[num_qubits][\"time_taken\"].append(get_time_taken_from_ddsim(ddsim_job))\n",
    "\n",
    "additional_ddsim_result = [\n",
    "    (num_qubits,\n",
    "     float(np.mean(additional_ddsim_results[num_qubits][\"success_possibilities\"])),\n",
    "     float(np.mean(additional_ddsim_results[num_qubits][\"time_taken\"])),\n",
    "    )\n",
    "    for num_qubits in additional_ddsim_results.keys()\n",
    "]\n",
    "additional_ddsim_result"
   ]
  },
  {
   "cell_type": "code",
   "execution_count": 27,
   "id": "b4758590-2685-4ab9-98a4-7da9f73579e3",
   "metadata": {},
   "outputs": [
    {
     "data": {
      "image/png": "[encoded data removed]",
      "text/plain": [
       "<Figure size 1000x400 with 2 Axes>"
      ]
     },
     "metadata": {},
     "output_type": "display_data"
    }
   ],
   "source": [
    "x = [num_qubits for num_qubits, _, _ in ddsim_result]\n",
    "additional_x = [num_qubits for num_qubits, _, _ in additional_ddsim_result]\n",
    "new_x = x + additional_x\n",
    "\n",
    "success_possibilities_ddsim = [success_possibility  for _, success_possibility, _ in ddsim_result]\n",
    "times_taken_ddsim = [time_taken  for _, _, time_taken in ddsim_result]\n",
    "\n",
    "additional_success_possibilities_ddsim = [success_possibility  for _, success_possibility, _ in additional_ddsim_result]\n",
    "additional_times_taken_ddsim = [time_taken  for _, _, time_taken in additional_ddsim_result]\n",
    "\n",
    "new_success_possibilities_ddsim = success_possibilities_ddsim + additional_success_possibilities_ddsim\n",
    "new_times_taken_ddsim = times_taken_ddsim + additional_times_taken_ddsim\n",
    "\n",
    "fig, axes = plt.subplots(ncols=2, figsize=(10,4))\n",
    "\n",
    "# Success probability\n",
    "axes[0].scatter(new_w, new_success_possibilities_ddsim, color=\"red\", s=5, label=\"DDSIMulator\")\n",
    "axes[0].set_xlabel(\"the number of qubits\")\n",
    "axes[0].set_ylabel(\"Avg. success probability\")\n",
    "axes[0].legend()\n",
    "\n",
    "# Time taken\n",
    "axes[1].scatter(new_x, new_times_taken_ddsim, color=\"red\", s=5, label=\"DDSIMulator\")\n",
    "axes[1].set_xlabel(\"the number of qubits\")\n",
    "axes[1].set_ylabel(\"Avg. time to execute\")\n",
    "axes[1].legend()\n",
    "\n",
    "plt.savefig(\"additional_ddsim_qubits.png\")\n",
    "\n",
    "plt.show()"
   ]
  },
  {
   "cell_type": "markdown",
   "id": "53fa7099-ecd8-46f7-a157-0b333504eb1c",
   "metadata": {},
   "source": [
    "### Increase in the number of adder"
   ]
  },
  {
   "cell_type": "code",
   "execution_count": 28,
   "id": "6430e0cf-f183-4e66-b3db-6c11b9647c2c",
   "metadata": {},
   "outputs": [],
   "source": [
    "def get_deep_circuit(num_state_qubits, a, b, depth):\n",
    "    if depth <= 0:\n",
    "        depth = 1\n",
    "\n",
    "    circuit = qiskit.circuit.library.DraperQFTAdder(num_state_qubits, kind='half')\n",
    "\n",
    "    a_bin = bin(a)[2:]\n",
    "    b_bin = bin(b)[2:]\n",
    "    out_bin = bin(a + b)[2:]\n",
    "    # print(f\"a + b = {a} + {b} = {int(out_bin, 2)}\")\n",
    "    \n",
    "    for index, letter in enumerate(a_bin[::-1]):\n",
    "        if letter == \"1\":\n",
    "            circuit.compose(qiskit.circuit.library.XGate(), [index], front=True, inplace=True)\n",
    "    for index, letter in enumerate(b_bin[::-1], num_state_qubits):\n",
    "        if letter == \"1\":\n",
    "            circuit.compose(qiskit.circuit.library.XGate(), [index], front=True, inplace=True)\n",
    "\n",
    "    for _ in range(depth - 1):\n",
    "        circuit.compose(qiskit.circuit.library.DraperQFTAdder(num_state_qubits, kind='half'), range(circuit.num_qubits), inplace=True)\n",
    "\n",
    "    return circuit"
   ]
  },
  {
   "cell_type": "code",
   "execution_count": 29,
   "id": "d9efd138-8b93-4d35-b9cb-d9054a839a9c",
   "metadata": {},
   "outputs": [
    {
     "name": "stdout",
     "output_type": "stream",
     "text": [
      "CPU times: user 1h 34min 58s, sys: 5min 39s, total: 1h 40min 38s\n",
      "Wall time: 15min 25s\n"
     ]
    }
   ],
   "source": [
    "%%time\n",
    "random.seed(SEED)\n",
    "\n",
    "num_state_qubits = 10\n",
    "max_depth = 20\n",
    "num_trials = 10\n",
    "\n",
    "aer_jobs = dict()\n",
    "ddsim_jobs = dict()\n",
    "for depth in range(1, max_depth + 1):\n",
    "    for _ in range(num_trials):\n",
    "        max_number = (2 ** num_state_qubits) - 1\n",
    "        a = random.randint(0, max_number)\n",
    "        b = random.randint(0, max_number)\n",
    "        \n",
    "        # Get the target circuit.\n",
    "        circuit = get_deep_circuit(num_state_qubits, a, b, depth)\n",
    "        \n",
    "        # Make the key for the dicts.\n",
    "        result = (a * depth + b) % (2 ** (num_state_qubits + 1))\n",
    "        key = (depth, num_trials, a, b, result)\n",
    "    \n",
    "        # Transpile the circuit for Aer.\n",
    "        pass_manager = qiskit.transpiler.generate_preset_pass_manager(\n",
    "            optimization_level=3,\n",
    "            backend=aer_qasm,\n",
    "            seed_transpiler=SEED,\n",
    "        )\n",
    "        trainspiled_circuit_for_aer = pass_manager.run(circuit)\n",
    "        trainspiled_circuit_for_aer.add_register(\n",
    "            qiskit.ClassicalRegister(circuit.num_qubits - circuit.num_state_qubits)\n",
    "        )\n",
    "        for c_index in range(trainspiled_circuit_for_aer.num_qubits - num_state_qubits):\n",
    "            q_index = c_index + num_state_qubits\n",
    "            trainspiled_circuit_for_aer.measure(q_index, c_index)\n",
    "        # Run the circuit with Aer.\n",
    "        job = aer_qasm.run(trainspiled_circuit_for_aer, shots=SHOTS)\n",
    "        aer_jobs[key] = job\n",
    "    \n",
    "        # Transpile the circuit for DDSIM.\n",
    "        pass_manager = qiskit.transpiler.generate_preset_pass_manager(\n",
    "            optimization_level=3,\n",
    "            backend=ddsim_qasm,\n",
    "            seed_transpiler=SEED,\n",
    "        )\n",
    "        trainspiled_circuit_for_ddsim = pass_manager.run(circuit)\n",
    "        trainspiled_circuit_for_ddsim.add_register(\n",
    "            qiskit.ClassicalRegister(circuit.num_qubits - circuit.num_state_qubits)\n",
    "        )\n",
    "        for c_index in range(trainspiled_circuit_for_ddsim.num_qubits - num_state_qubits):\n",
    "            q_index = c_index + num_state_qubits\n",
    "            trainspiled_circuit_for_ddsim.measure(q_index, c_index)\n",
    "        # Run the circuit with DDSIM.\n",
    "        job = ddsim_qasm.run(trainspiled_circuit_for_ddsim, shots=SHOTS)\n",
    "        ddsim_jobs[key] = job"
   ]
  },
  {
   "cell_type": "code",
   "execution_count": 30,
   "id": "6249ff15-7cb0-4e33-ad60-0a0fabebdc13",
   "metadata": {},
   "outputs": [
    {
     "data": {
      "text/plain": [
       "[(1, 1.0, 0.41506099170000005),\n",
       " (2, 1.0, 0.7622788792),\n",
       " (3, 1.0, 1.1272006376),\n",
       " (4, 1.0, 1.4795302581999998),\n",
       " (5, 1.0, 1.8106534789000002),\n",
       " (6, 1.0, 2.2391994624),\n",
       " (7, 1.0, 2.6463375208000004),\n",
       " (8, 1.0, 3.08274945),\n",
       " (9, 1.0, 3.4461228375),\n",
       " (10, 1.0, 3.6225337249),\n",
       " (11, 1.0, 3.858256746000001),\n",
       " (12, 1.0, 4.2248221500000005),\n",
       " (13, 1.0, 4.602815487500001),\n",
       " (14, 1.0, 4.8831777250999995),\n",
       " (15, 1.0, 5.305160933400001),\n",
       " (16, 1.0, 5.614708137599999),\n",
       " (17, 1.0, 5.9760368085),\n",
       " (18, 1.0, 6.284256437600001),\n",
       " (19, 1.0, 6.663836083600001),\n",
       " (20, 1.0, 7.2525995)]"
      ]
     },
     "execution_count": 30,
     "metadata": {},
     "output_type": "execute_result"
    }
   ],
   "source": [
    "# Organise the data for Aer.\n",
    "aer_results = dict()\n",
    "for key, aer_job in aer_jobs.items():\n",
    "    num_qubits = key[0]\n",
    "    if num_qubits not in aer_results:\n",
    "        aer_results[num_qubits] = {\"success_possibilities\": [], \"time_taken\": []}\n",
    "\n",
    "    if not aer_job.result().results[0].success:\n",
    "        continue\n",
    "\n",
    "    true_key_digit = key[-1]\n",
    "    aer_results[num_qubits][\"success_possibilities\"].append(get_success_possibility(aer_job, true_key_digit))\n",
    "    aer_results[num_qubits][\"time_taken\"].append(get_time_taken_from_aer(aer_job))\n",
    "\n",
    "aer_result = [\n",
    "    (num_qubits,\n",
    "     float(np.mean(aer_results[num_qubits][\"success_possibilities\"])),\n",
    "     float(np.mean(aer_results[num_qubits][\"time_taken\"])),\n",
    "    )\n",
    "    for num_qubits in aer_results.keys()\n",
    "]\n",
    "aer_result"
   ]
  },
  {
   "cell_type": "code",
   "execution_count": 31,
   "id": "adabbc38-7f6c-4521-9b5e-3633e15171a9",
   "metadata": {},
   "outputs": [
    {
     "data": {
      "text/plain": [
       "[(1, 1.0, 0.021367812156677247),\n",
       " (2, 1.0, 0.018986988067626952),\n",
       " (3, 1.0, 0.022952866554260255),\n",
       " (4, 1.0, 0.023298120498657225),\n",
       " (5, 1.0, 0.025855612754821778),\n",
       " (6, 1.0, 0.030089545249938964),\n",
       " (7, 1.0, 0.03085799217224121),\n",
       " (8, 1.0, 0.02994699478149414),\n",
       " (9, 1.0, 0.028842353820800783),\n",
       " (10, 1.0, 0.030142498016357423),\n",
       " (11, 1.0, 0.02930305004119873),\n",
       " (12, 1.0, 0.030350780487060545),\n",
       " (13, 1.0, 0.030856966972351074),\n",
       " (14, 1.0, 0.032050251960754395),\n",
       " (15, 1.0, 0.03344390392303467),\n",
       " (16, 1.0, 0.03674812316894531),\n",
       " (17, 1.0, 0.0369370698928833),\n",
       " (18, 1.0, 0.037326622009277347),\n",
       " (19, 1.0, 0.038136410713195804),\n",
       " (20, 1.0, 0.03825359344482422)]"
      ]
     },
     "execution_count": 31,
     "metadata": {},
     "output_type": "execute_result"
    }
   ],
   "source": [
    "# Organise the data for DDSIM.\n",
    "ddsim_results = dict()\n",
    "for key, ddsim_job in ddsim_jobs.items():\n",
    "    num_qubits = key[0]\n",
    "    if num_qubits not in ddsim_results:\n",
    "        ddsim_results[num_qubits] = {\"success_possibilities\": [], \"time_taken\": []}\n",
    "\n",
    "    if not ddsim_job.result().results[0].success:\n",
    "        continue\n",
    "    \n",
    "    true_key_digit = key[-1]\n",
    "    ddsim_results[num_qubits][\"success_possibilities\"].append(get_success_possibility(ddsim_job, true_key_digit))\n",
    "    ddsim_results[num_qubits][\"time_taken\"].append(get_time_taken_from_ddsim(ddsim_job))\n",
    "\n",
    "ddsim_result = [\n",
    "    (num_qubits,\n",
    "     float(np.mean(ddsim_results[num_qubits][\"success_possibilities\"])),\n",
    "     float(np.mean(ddsim_results[num_qubits][\"time_taken\"])),\n",
    "    )\n",
    "    for num_qubits in ddsim_results.keys()\n",
    "]\n",
    "ddsim_result"
   ]
  },
  {
   "cell_type": "code",
   "execution_count": 32,
   "id": "3a066715-9274-4e01-beae-7ddd29545326",
   "metadata": {},
   "outputs": [
    {
     "data": {
      "image/png": "[encoded data removed]",
      "text/plain": [
       "<Figure size 1000x400 with 2 Axes>"
      ]
     },
     "metadata": {},
     "output_type": "display_data"
    }
   ],
   "source": [
    "assert [num_qubits  for num_qubits, _, _ in aer_result] == [num_qubits  for num_qubits, _, _ in ddsim_result]\n",
    "x = [num_qubits  for num_qubits, _, _ in aer_result]\n",
    "success_possibilities_aer = [success_possibility  for _, success_possibility, _ in aer_result]\n",
    "success_possibilities_ddsim = [success_possibility  for _, success_possibility, _ in ddsim_result]\n",
    "times_taken_aer = [time_taken  for _, _, time_taken in aer_result]\n",
    "times_taken_ddsim = [time_taken  for _, _, time_taken in ddsim_result]\n",
    "\n",
    "fig, axes = plt.subplots(ncols=2, figsize=(10,4))\n",
    "\n",
    "# Success probability\n",
    "axes[0].scatter(x, success_possibilities_aer, color=\"blue\", s=20, label=\"AerSimulator\")\n",
    "axes[0].scatter(x, success_possibilities_ddsim, color=\"red\", s=5, label=\"DDSIMulator\")\n",
    "axes[0].set_xlabel(\"the number of adders\")\n",
    "axes[0].set_ylabel(\"Avg. success probability\")\n",
    "axes[0].legend()\n",
    "\n",
    "# Time taken\n",
    "axes[1].scatter(x, times_taken_aer, color=\"blue\", s=20, label=\"AerSimulator\")\n",
    "axes[1].scatter(x, times_taken_ddsim, color=\"red\", s=5, label=\"DDSIMulator\")\n",
    "axes[1].set_xlabel(\"the number of adders\")\n",
    "axes[1].set_ylabel(\"Avg. time to execute\")\n",
    "axes[1].legend()\n",
    "\n",
    "plt.savefig(\"ddsim_vs_aer_gates.png\")\n",
    "\n",
    "plt.show()"
   ]
  },
  {
   "cell_type": "code",
   "execution_count": 33,
   "id": "c2953a41-49ee-4a36-bb2f-4115ca93aa3b",
   "metadata": {},
   "outputs": [
    {
     "name": "stdout",
     "output_type": "stream",
     "text": [
      "CPU times: user 8min 31s, sys: 2.52 s, total: 8min 33s\n",
      "Wall time: 8min 34s\n"
     ]
    }
   ],
   "source": [
    "%%time\n",
    "random.seed(SEED)\n",
    "\n",
    "num_state_qubits = 10\n",
    "additional_max_depth = 50\n",
    "num_trials = 10\n",
    "\n",
    "additional_ddsim_jobs = dict()\n",
    "for depth in range(max_depth + 1, additional_max_depth + 1):\n",
    "    for _ in range(num_trials):\n",
    "        max_number = (2 ** num_state_qubits) - 1\n",
    "        a = random.randint(0, max_number)\n",
    "        b = random.randint(0, max_number)\n",
    "        \n",
    "        # Get the target circuit.\n",
    "        circuit = get_deep_circuit(num_state_qubits, a, b, depth)\n",
    "        \n",
    "        # Make the key for the dicts.\n",
    "        result = (a * depth + b) % (2 ** (num_state_qubits + 1))\n",
    "        key = (depth, num_trials, a, b, result)\n",
    "    \n",
    "        # Transpile the circuit for DDSIM.\n",
    "        pass_manager = qiskit.transpiler.generate_preset_pass_manager(\n",
    "            optimization_level=3,\n",
    "            backend=ddsim_qasm,\n",
    "            seed_transpiler=SEED,\n",
    "        )\n",
    "        trainspiled_circuit_for_ddsim = pass_manager.run(circuit)\n",
    "        trainspiled_circuit_for_ddsim.add_register(\n",
    "            qiskit.ClassicalRegister(circuit.num_qubits - circuit.num_state_qubits)\n",
    "        )\n",
    "        for c_index in range(trainspiled_circuit_for_ddsim.num_qubits - num_state_qubits):\n",
    "            q_index = c_index + num_state_qubits\n",
    "            trainspiled_circuit_for_ddsim.measure(q_index, c_index)\n",
    "        # Run the circuit with DDSIM.\n",
    "        job = ddsim_qasm.run(trainspiled_circuit_for_ddsim, shots=SHOTS)\n",
    "        additional_ddsim_jobs[key] = job"
   ]
  },
  {
   "cell_type": "code",
   "execution_count": 34,
   "id": "84e3ecbe-53db-4462-907d-caf27d3b1bc1",
   "metadata": {},
   "outputs": [
    {
     "data": {
      "text/plain": [
       "[(21, 1.0, 0.04134058952331543),\n",
       " (22, 1.0, 0.043001198768615724),\n",
       " (23, 1.0, 0.04353485107421875),\n",
       " (24, 1.0, 0.0519089937210083),\n",
       " (25, 1.0, 0.04757931232452393),\n",
       " (26, 1.0, 0.05117158889770508),\n",
       " (27, 1.0, 0.05259513854980469),\n",
       " (28, 1.0, 0.052139997482299805),\n",
       " (29, 1.0, 0.052583718299865724),\n",
       " (30, 1.0, 0.055478906631469725),\n",
       " (31, 1.0, 0.055288052558898924),\n",
       " (32, 1.0, 0.05782175064086914),\n",
       " (33, 1.0, 0.058433699607849124),\n",
       " (34, 1.0, 0.05822112560272217),\n",
       " (35, 1.0, 0.05955746173858643),\n",
       " (36, 1.0, 0.059922218322753906),\n",
       " (37, 1.0, 0.06171691417694092),\n",
       " (38, 1.0, 0.06390867233276368),\n",
       " (39, 1.0, 0.06389377117156983),\n",
       " (40, 1.0, 0.06974642276763916),\n",
       " (41, 1.0, 0.07006344795227051),\n",
       " (42, 1.0, 0.07263147830963135),\n",
       " (43, 1.0, 0.07243366241455078),\n",
       " (44, 1.0, 0.07372472286224366),\n",
       " (45, 1.0, 0.0759188175201416),\n",
       " (46, 1.0, 0.07596189975738525),\n",
       " (47, 1.0, 0.07902052402496337),\n",
       " (48, 1.0, 0.0775681972503662),\n",
       " (49, 1.0, 0.08213574886322021),\n",
       " (50, 1.0, 0.07774858474731446)]"
      ]
     },
     "execution_count": 34,
     "metadata": {},
     "output_type": "execute_result"
    }
   ],
   "source": [
    "# Organise the data for DDSIM.\n",
    "additional_ddsim_results = dict()\n",
    "for key, ddsim_job in additional_ddsim_jobs.items():\n",
    "    num_qubits = key[0]\n",
    "    if num_qubits not in additional_ddsim_results:\n",
    "        additional_ddsim_results[num_qubits] = {\"success_possibilities\": [], \"time_taken\": []}\n",
    "\n",
    "    if not ddsim_job.result().results[0].success:\n",
    "        continue\n",
    "    \n",
    "    true_key_digit = key[-1]\n",
    "    additional_ddsim_results[num_qubits][\"success_possibilities\"].append(get_success_possibility(ddsim_job, true_key_digit))\n",
    "    additional_ddsim_results[num_qubits][\"time_taken\"].append(get_time_taken_from_ddsim(ddsim_job))\n",
    "\n",
    "additional_ddsim_result = [\n",
    "    (num_qubits,\n",
    "     float(np.mean(additional_ddsim_results[num_qubits][\"success_possibilities\"])),\n",
    "     float(np.mean(additional_ddsim_results[num_qubits][\"time_taken\"])),\n",
    "    )\n",
    "    for num_qubits in additional_ddsim_results.keys()\n",
    "]\n",
    "additional_ddsim_result"
   ]
  },
  {
   "cell_type": "code",
   "execution_count": 35,
   "id": "83829834-9728-401e-97d9-527b801cd866",
   "metadata": {},
   "outputs": [
    {
     "data": {
      "image/png": "[encoded data removed]",
      "text/plain": [
       "<Figure size 1000x400 with 2 Axes>"
      ]
     },
     "metadata": {},
     "output_type": "display_data"
    }
   ],
   "source": [
    "x = [num_qubits for num_qubits, _, _ in ddsim_result]\n",
    "additional_x = [num_qubits for num_qubits, _, _ in additional_ddsim_result]\n",
    "new_x = x + additional_x\n",
    "\n",
    "success_possibilities_ddsim = [success_possibility  for _, success_possibility, _ in ddsim_result]\n",
    "times_taken_ddsim = [time_taken  for _, _, time_taken in ddsim_result]\n",
    "\n",
    "additional_success_possibilities_ddsim = [success_possibility  for _, success_possibility, _ in additional_ddsim_result]\n",
    "additional_times_taken_ddsim = [time_taken  for _, _, time_taken in additional_ddsim_result]\n",
    "\n",
    "new_success_possibilities_ddsim = success_possibilities_ddsim + additional_success_possibilities_ddsim\n",
    "new_times_taken_ddsim = times_taken_ddsim + additional_times_taken_ddsim\n",
    "\n",
    "fig, axes = plt.subplots(ncols=2, figsize=(10,4))\n",
    "\n",
    "# Success probability\n",
    "axes[0].scatter(new_x, new_success_possibilities_ddsim, color=\"red\", s=5, label=\"DDSIMulator\")\n",
    "axes[0].set_xlabel(\"the number of adders\")\n",
    "axes[0].set_ylabel(\"Avg. success probability\")\n",
    "axes[0].legend()\n",
    "\n",
    "# Time taken\n",
    "axes[1].scatter(new_x, new_times_taken_ddsim, color=\"red\", s=5, label=\"DDSIMulator\")\n",
    "axes[1].set_xlabel(\"the number of adders\")\n",
    "axes[1].set_ylabel(\"Avg. time to execute\")\n",
    "axes[1].legend()\n",
    "\n",
    "plt.savefig(\"additional_ddsim_gates.png\")\n",
    "\n",
    "plt.show()"
   ]
  },
  {
   "cell_type": "code",
   "execution_count": null,
   "id": "47aeb546-45b4-4ed5-a90b-882aae0066db",
   "metadata": {},
   "outputs": [],
   "source": []
  }
 ],
 "metadata": {
  "kernelspec": {
   "display_name": "Python 3 (ipykernel)",
   "language": "python",
   "name": "python3"
  },
  "language_info": {
   "codemirror_mode": {
    "name": "ipython",
    "version": 3
   },
   "file_extension": ".py",
   "mimetype": "text/x-python",
   "name": "python",
   "nbconvert_exporter": "python",
   "pygments_lexer": "ipython3",
   "version": "3.13.2"
  }
 },
 "nbformat": 4,
 "nbformat_minor": 5
}
